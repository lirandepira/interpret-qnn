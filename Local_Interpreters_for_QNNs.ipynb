{
  "cells": [
    {
      "cell_type": "markdown",
      "metadata": {
        "id": "view-in-github",
        "colab_type": "text"
      },
      "source": [
        "<a href=\"https://colab.research.google.com/github/lirandepira/interpret-qnn/blob/main/Local_Interpreters_for_QNNs.ipynb\" target=\"_parent\"><img src=\"https://colab.research.google.com/assets/colab-badge.svg\" alt=\"Open In Colab\"/></a>"
      ]
    },
    {
      "cell_type": "markdown",
      "metadata": {
        "id": "jCcsyAf1UME2"
      },
      "source": [
        "**Explicability and Inexplicability in the Interpretation of Quantum Neural Networks**\n",
        "\n",
        "*Lirandë Pira & Chris Ferrie*\n",
        "\n",
        "This code designs and implements a local model-agnostic interpreter for a quantum neural network. Consequently, in this simulation we define the so-called *region of indecision* which is evident when interpreting different data samples with a quantum classifier. This implies that there is a region in the classifier, in which corresponding data points will not have an interpretation, due to the random nature of quantum effects.\n",
        "\n",
        "This tutorial style simulation has four main parts. After data loading, readers familiar with the concept of model-agnostic local interpretability, can skim through. The results in Classical Training section do not affect the simulations in Quantum Training section, and consequently the Region of Indecision."
      ]
    },
    {
      "cell_type": "markdown",
      "source": [
        "# Data Loading"
      ],
      "metadata": {
        "id": "x5imnWYxl775"
      }
    },
    {
      "cell_type": "code",
      "execution_count": 1,
      "metadata": {
        "id": "1MT1TlUhTyAP"
      },
      "outputs": [],
      "source": [
        "# Install Qiskit, an open-source quantum computing framework\n",
        "!pip install qiskit --quiet"
      ]
    },
    {
      "cell_type": "code",
      "execution_count": 2,
      "metadata": {
        "id": "tfPQXEBcDNCD"
      },
      "outputs": [],
      "source": [
        "# Necessary imports\n",
        "\n",
        "import matplotlib.pyplot as plt\n",
        "from matplotlib.colors import ListedColormap\n",
        "import matplotlib.colors as colors\n",
        "\n",
        "\n",
        "import numpy as np\n",
        "import scipy as sp\n",
        "import sklearn as sk\n",
        "import qiskit as qk\n",
        "\n",
        "from sklearn.datasets import load_iris\n",
        "from sklearn.model_selection import train_test_split\n",
        "from sklearn.linear_model import LogisticRegression\n",
        "from sklearn.neighbors import KNeighborsClassifier"
      ]
    },
    {
      "cell_type": "code",
      "execution_count": 3,
      "metadata": {
        "id": "_pssgoTADkb_"
      },
      "outputs": [],
      "source": [
        "# Load the Iris dataset\n",
        "iris = load_iris()\n",
        "\n",
        "# Normalize the data by subtracting the minimum value and dividing by the maximum value\n",
        "iris.data = (iris.data-iris.data.min())/iris.data.max()"
      ]
    },
    {
      "cell_type": "code",
      "execution_count": 4,
      "metadata": {
        "id": "ksKXVtUvUbFm"
      },
      "outputs": [],
      "source": [
        "# Use the first two classes of the Iris dataset only (100 of 150 data points)\n",
        "X_train, X_test, Y_train, Y_test = train_test_split(\n",
        "    iris.data[0:100,[0,1]],\n",
        "    iris.target[0:100],\n",
        "    test_size=0.75,\n",
        "    random_state=0)"
      ]
    },
    {
      "cell_type": "code",
      "execution_count": 5,
      "metadata": {
        "colab": {
          "base_uri": "https://localhost:8080/",
          "height": 518
        },
        "id": "TaVi88KXUpMw",
        "outputId": "57dda07c-1908-4bae-9c6e-88623ed22c5d"
      },
      "outputs": [
        {
          "output_type": "display_data",
          "data": {
            "text/plain": [
              "<Figure size 800x600 with 1 Axes>"
            ],
            "image/png": "[encoded data removed]"
          },
          "metadata": {}
        }
      ],
      "source": [
        "x = X_train\n",
        "y = Y_train\n",
        "\n",
        " # Calculate the minimum and maximum values for x-axis and y-axis\n",
        "x_min, x_max = x[:, 0].min() - 0.05, x[:, 0].max() + 0.05\n",
        "y_min, y_max = x[:, 1].min() - 0.05, x[:, 1].max() + 0.05\n",
        "\n",
        "plt.figure(2, figsize=(8, 6))\n",
        "\n",
        "# Create a custom colormap\n",
        "custom_colors = ['#F27200', '#004D80']\n",
        "custom_cmap = colors.ListedColormap(custom_colors)\n",
        "\n",
        "# Plot the training points. Scatter plot of x and y with color-coded classes\n",
        "plt.scatter(x[:, 0], x[:, 1], c=y, cmap=custom_cmap, edgecolor=\"k\")\n",
        "plt.xlabel(\"Feature 1\")\n",
        "plt.ylabel(\"Feature 2\")\n",
        "\n",
        "plt.xlim(x_min, x_max - 0.001)\n",
        "plt.ylim(y_min, y_max - 0.01)\n",
        "\n",
        "plt.xticks(())\n",
        "plt.yticks(());"
      ]
    },
    {
      "cell_type": "markdown",
      "metadata": {
        "id": "Ti1BpllWVOxK"
      },
      "source": [
        "# Classical Training\n",
        "Note: This section is here for tutorial purposes, it may be skipped should one have prior knowledge of training interpretable local surrogate models."
      ]
    },
    {
      "cell_type": "code",
      "execution_count": 6,
      "metadata": {
        "colab": {
          "base_uri": "https://localhost:8080/"
        },
        "id": "MlUXsJWGVORp",
        "outputId": "39cd0e42-0e86-43b3-fe60-23c840cb161c"
      },
      "outputs": [
        {
          "output_type": "stream",
          "name": "stdout",
          "text": [
            "The accuracy of the knn classifier is 1.00 on training data\n",
            "The accuracy of the knn classifier is 0.99 on test data\n"
          ]
        }
      ],
      "source": [
        "# Create an instance of the K-Nearest Neighbors\n",
        "knn = KNeighborsClassifier()\n",
        "knn.fit(X_train, Y_train)\n",
        "\n",
        "print('The accuracy of the knn classifier is {:.2f} on training data'.format(knn.score(X_train, Y_train)))\n",
        "print('The accuracy of the knn classifier is {:.2f} on test data'.format(knn.score(X_test, Y_test)))"
      ]
    },
    {
      "cell_type": "code",
      "execution_count": 7,
      "metadata": {
        "colab": {
          "base_uri": "https://localhost:8080/",
          "height": 518
        },
        "id": "nKMHbJfthKgj",
        "outputId": "c3cecd1e-d88b-478b-b287-a0c588123949"
      },
      "outputs": [
        {
          "output_type": "display_data",
          "data": {
            "text/plain": [
              "<Figure size 800x600 with 1 Axes>"
            ],
            "image/png": "[encoded data removed]"
          },
          "metadata": {}
        }
      ],
      "source": [
        "plt.figure(2, figsize=(8, 6))\n",
        "\n",
        "x = X_train\n",
        "y = Y_train\n",
        "\n",
        "x_min, x_max = x[:, 0].min() - 0.05, x[:, 0].max() + 0.05\n",
        "y_min, y_max = x[:, 1].min() - 0.05, x[:, 1].max() + 0.05\n",
        "\n",
        "x1, x2 = np.meshgrid(np.arange(x_min, x_max, 0.01),\n",
        "                        np.arange(y_min, y_max, 0.01))\n",
        "\n",
        "# Create a custom colormap\n",
        "custom_colors = ['#F27200', '#004D80']\n",
        "custom_cmap = colors.ListedColormap(custom_colors)\n",
        "\n",
        "# Predict and reshape the labels for the meshgrid points\n",
        "Z = knn.predict(np.array([x1.ravel(), x2.ravel()]).T)\n",
        "Z = Z.reshape(x1.shape)\n",
        "plt.pcolormesh(x1, x2, Z, alpha=0.4, cmap=custom_cmap)\n",
        "\n",
        " # Plot the training points with color-coded classes\n",
        "plt.scatter(x[:, 0], x[:, 1], c=y, cmap=custom_cmap, edgecolor=\"k\")\n",
        "\n",
        "plt.xlabel(\"Feature 1\")\n",
        "plt.ylabel(\"Feature 2\")\n",
        "\n",
        "plt.xlim(x_min, x_max - 0.001)\n",
        "plt.ylim(y_min, y_max - 0.01)\n",
        "\n",
        "plt.xticks(())\n",
        "plt.yticks(());"
      ]
    },
    {
      "cell_type": "code",
      "execution_count": 8,
      "metadata": {
        "id": "viOaDUsmjWK9"
      },
      "outputs": [],
      "source": [
        "# Define variable local_idx with value 1\n",
        "local_idx = 1\n",
        "\n",
        "# Create new_X_train and add random noise to the selected row of X_train\n",
        "new_X_train = X_train[local_idx,:]+0.025*np.random.randn(100,2)\n",
        "\n",
        "new_Y_train = knn.predict(new_X_train)"
      ]
    },
    {
      "cell_type": "code",
      "execution_count": 9,
      "metadata": {
        "colab": {
          "base_uri": "https://localhost:8080/",
          "height": 518
        },
        "id": "kCamwF8_hcBQ",
        "outputId": "a954ea63-c48b-415f-8f5e-0a616e426496"
      },
      "outputs": [
        {
          "output_type": "display_data",
          "data": {
            "text/plain": [
              "<Figure size 800x600 with 1 Axes>"
            ],
            "image/png": "[encoded data removed]"
          },
          "metadata": {}
        }
      ],
      "source": [
        "plt.figure(2, figsize=(8, 6))\n",
        "\n",
        "x = X_train\n",
        "\n",
        "x_min, x_max = x[:, 0].min() - 0.05, x[:, 0].max() + 0.05\n",
        "y_min, y_max = x[:, 1].min() - 0.05, x[:, 1].max() + 0.05\n",
        "\n",
        "x1, x2 = np.meshgrid(np.arange(x_min, x_max, 0.01),\n",
        "                        np.arange(y_min, y_max, 0.01))\n",
        "\n",
        "# Create a custom colormap\n",
        "custom_colors = ['#F27200', '#004D80']\n",
        "custom_cmap = colors.ListedColormap(custom_colors)\n",
        "\n",
        "Z = knn.predict(np.array([x1.ravel(), x2.ravel()]).T)\n",
        "Z = Z.reshape(x1.shape)\n",
        "plt.pcolormesh(x1, x2, Z, alpha=0.4, cmap=custom_cmap)\n",
        "\n",
        "# Plot a data sample as a marker to indicate the selected point from X_train\n",
        "plt.plot(x[local_idx,0], x[local_idx,1], marker=\"o\", markersize=12, markeredgecolor=\"k\",\n",
        "markerfacecolor=\"yellow\")\n",
        "\n",
        "plt.scatter(new_X_train[:, 0], new_X_train[:, 1], c=new_Y_train, cmap=custom_cmap, edgecolor=\"k\")\n",
        "\n",
        "plt.xlabel(\"Feature 1\")\n",
        "plt.ylabel(\"Feature 2\")\n",
        "\n",
        "plt.xlim(x_min, x_max - 0.001)\n",
        "plt.ylim(y_min, y_max - 0.01)\n",
        "\n",
        "plt.xticks(())\n",
        "plt.yticks(());"
      ]
    },
    {
      "cell_type": "code",
      "execution_count": 10,
      "metadata": {
        "colab": {
          "base_uri": "https://localhost:8080/",
          "height": 74
        },
        "id": "didphFyWkpAP",
        "outputId": "d17daf83-5e02-41ea-deda-3c0fab8439cf"
      },
      "outputs": [
        {
          "output_type": "execute_result",
          "data": {
            "text/plain": [
              "LogisticRegression(C=100000.0)"
            ],
            "text/html": [
              "<style>#sk-container-id-1 {color: black;background-color: white;}#sk-container-id-1 pre{padding: 0;}#sk-container-id-1 div.sk-toggleable {background-color: white;}#sk-container-id-1 label.sk-toggleable__label {cursor: pointer;display: block;width: 100%;margin-bottom: 0;padding: 0.3em;box-sizing: border-box;text-align: center;}#sk-container-id-1 label.sk-toggleable__label-arrow:before {content: \"▸\";float: left;margin-right: 0.25em;color: #696969;}#sk-container-id-1 label.sk-toggleable__label-arrow:hover:before {color: black;}#sk-container-id-1 div.sk-estimator:hover label.sk-toggleable__label-arrow:before {color: black;}#sk-container-id-1 div.sk-toggleable__content {max-height: 0;max-width: 0;overflow: hidden;text-align: left;background-color: #f0f8ff;}#sk-container-id-1 div.sk-toggleable__content pre {margin: 0.2em;color: black;border-radius: 0.25em;background-color: #f0f8ff;}#sk-container-id-1 input.sk-toggleable__control:checked~div.sk-toggleable__content {max-height: 200px;max-width: 100%;overflow: auto;}#sk-container-id-1 input.sk-toggleable__control:checked~label.sk-toggleable__label-arrow:before {content: \"▾\";}#sk-container-id-1 div.sk-estimator input.sk-toggleable__control:checked~label.sk-toggleable__label {background-color: #d4ebff;}#sk-container-id-1 div.sk-label input.sk-toggleable__control:checked~label.sk-toggleable__label {background-color: #d4ebff;}#sk-container-id-1 input.sk-hidden--visually {border: 0;clip: rect(1px 1px 1px 1px);clip: rect(1px, 1px, 1px, 1px);height: 1px;margin: -1px;overflow: hidden;padding: 0;position: absolute;width: 1px;}#sk-container-id-1 div.sk-estimator {font-family: monospace;background-color: #f0f8ff;border: 1px dotted black;border-radius: 0.25em;box-sizing: border-box;margin-bottom: 0.5em;}#sk-container-id-1 div.sk-estimator:hover {background-color: #d4ebff;}#sk-container-id-1 div.sk-parallel-item::after {content: \"\";width: 100%;border-bottom: 1px solid gray;flex-grow: 1;}#sk-container-id-1 div.sk-label:hover label.sk-toggleable__label {background-color: #d4ebff;}#sk-container-id-1 div.sk-serial::before {content: \"\";position: absolute;border-left: 1px solid gray;box-sizing: border-box;top: 0;bottom: 0;left: 50%;z-index: 0;}#sk-container-id-1 div.sk-serial {display: flex;flex-direction: column;align-items: center;background-color: white;padding-right: 0.2em;padding-left: 0.2em;position: relative;}#sk-container-id-1 div.sk-item {position: relative;z-index: 1;}#sk-container-id-1 div.sk-parallel {display: flex;align-items: stretch;justify-content: center;background-color: white;position: relative;}#sk-container-id-1 div.sk-item::before, #sk-container-id-1 div.sk-parallel-item::before {content: \"\";position: absolute;border-left: 1px solid gray;box-sizing: border-box;top: 0;bottom: 0;left: 50%;z-index: -1;}#sk-container-id-1 div.sk-parallel-item {display: flex;flex-direction: column;z-index: 1;position: relative;background-color: white;}#sk-container-id-1 div.sk-parallel-item:first-child::after {align-self: flex-end;width: 50%;}#sk-container-id-1 div.sk-parallel-item:last-child::after {align-self: flex-start;width: 50%;}#sk-container-id-1 div.sk-parallel-item:only-child::after {width: 0;}#sk-container-id-1 div.sk-dashed-wrapped {border: 1px dashed gray;margin: 0 0.4em 0.5em 0.4em;box-sizing: border-box;padding-bottom: 0.4em;background-color: white;}#sk-container-id-1 div.sk-label label {font-family: monospace;font-weight: bold;display: inline-block;line-height: 1.2em;}#sk-container-id-1 div.sk-label-container {text-align: center;}#sk-container-id-1 div.sk-container {/* jupyter's `normalize.less` sets `[hidden] { display: none; }` but bootstrap.min.css set `[hidden] { display: none !important; }` so we also need the `!important` here to be able to override the default hidden behavior on the sphinx rendered scikit-learn.org. See: https://github.com/scikit-learn/scikit-learn/issues/21755 */display: inline-block !important;position: relative;}#sk-container-id-1 div.sk-text-repr-fallback {display: none;}</style><div id=\"sk-container-id-1\" class=\"sk-top-container\"><div class=\"sk-text-repr-fallback\"><pre>LogisticRegression(C=100000.0)</pre><b>In a Jupyter environment, please rerun this cell to show the HTML representation or trust the notebook. <br />On GitHub, the HTML representation is unable to render, please try loading this page with nbviewer.org.</b></div><div class=\"sk-container\" hidden><div class=\"sk-item\"><div class=\"sk-estimator sk-toggleable\"><input class=\"sk-toggleable__control sk-hidden--visually\" id=\"sk-estimator-id-1\" type=\"checkbox\" checked><label for=\"sk-estimator-id-1\" class=\"sk-toggleable__label sk-toggleable__label-arrow\">LogisticRegression</label><div class=\"sk-toggleable__content\"><pre>LogisticRegression(C=100000.0)</pre></div></div></div></div></div>"
            ]
          },
          "metadata": {},
          "execution_count": 10
        }
      ],
      "source": [
        "# Define logistic regression\n",
        "lin = LogisticRegression(fit_intercept = True, C=1e5)\n",
        "lin.fit(new_X_train, new_Y_train)"
      ]
    },
    {
      "cell_type": "code",
      "execution_count": 11,
      "metadata": {
        "id": "-ENiCQwalHiQ",
        "colab": {
          "base_uri": "https://localhost:8080/",
          "height": 535
        },
        "outputId": "024a8346-714a-4b1a-e886-a89c856d3c03"
      },
      "outputs": [
        {
          "output_type": "execute_result",
          "data": {
            "text/plain": [
              "([], [])"
            ]
          },
          "metadata": {},
          "execution_count": 11
        },
        {
          "output_type": "display_data",
          "data": {
            "text/plain": [
              "<Figure size 800x600 with 1 Axes>"
            ],
            "image/png": "[encoded data removed]"
          },
          "metadata": {}
        }
      ],
      "source": [
        "plt.figure(2, figsize=(8, 6))\n",
        "\n",
        "x = X_train\n",
        "\n",
        "x_min, x_max = x[:, 0].min() - 0.05, x[:, 0].max() + 0.05\n",
        "y_min, y_max = x[:, 1].min() - 0.05, x[:, 1].max() + 0.05\n",
        "\n",
        "x1, x2 = np.meshgrid(np.arange(x_min, x_max, 0.01),\n",
        "                        np.arange(y_min, y_max, 0.01))\n",
        "\n",
        "# Create a custom colormap\n",
        "custom_colors = ['#F27200', '#004D80']\n",
        "custom_cmap = colors.ListedColormap(custom_colors)\n",
        "\n",
        "Z = knn.predict(np.array([x1.ravel(), x2.ravel()]).T)\n",
        "Z = Z.reshape(x1.shape)\n",
        "plt.pcolormesh(x1, x2, Z, alpha=0.4, cmap=custom_cmap)\n",
        "\n",
        "plt.plot(x[local_idx,0], x[local_idx,1], marker=\"o\", markersize=12, markeredgecolor=\"k\",\n",
        "markerfacecolor=\"yellow\")\n",
        "\n",
        "w = lin.coef_[0] # Extract the coefficients of the logistic regression\n",
        "m = - w[0] / w[1] # Calculate the slope of the decision boundary\n",
        "b = (0.5 - lin.intercept_[0]) / w[1] # Calculate the y-intercept of the decision boundary\n",
        "\n",
        " # Plot the decision boundary line\n",
        "plt.plot(np.linspace(x_min,x_max,100), m*np.linspace(x_min,x_max,100)+b,'k')\n",
        "\n",
        "plt.scatter(new_X_train[:, 0], new_X_train[:, 1], c=new_Y_train, cmap=custom_cmap, edgecolor=\"k\")\n",
        "\n",
        "plt.xlabel(\"Feature 1\")\n",
        "plt.ylabel(\"Feature 2\")\n",
        "\n",
        "plt.xlim(x_min, x_max - 0.001)\n",
        "plt.ylim(y_min, y_max - 0.01)\n",
        "\n",
        "plt.xticks(())\n",
        "plt.yticks(())"
      ]
    },
    {
      "cell_type": "markdown",
      "metadata": {
        "id": "eUUkfodf1U5t"
      },
      "source": [
        "# Quantum Training"
      ]
    },
    {
      "cell_type": "code",
      "execution_count": 12,
      "metadata": {
        "id": "u0yuSrYIprkT"
      },
      "outputs": [],
      "source": [
        "# Apply angle encoding to clasical dataset\n",
        "def encode(X, layers=2):\n",
        "    n_qubits = X.shape[0]\n",
        "    q = qk.QuantumRegister(n_qubits)\n",
        "    c = qk.ClassicalRegister(1)\n",
        "    qc = qk.QuantumCircuit(q, c)\n",
        "\n",
        "    for l in range(layers):\n",
        "        for qubit, x in enumerate(X):\n",
        "            qc.h(qubit)\n",
        "            qc.rz(2 * x, qubit)\n",
        "\n",
        "        for qubit in range(n_qubits - 1):\n",
        "            qc.cnot(qubit, qubit + 1)\n",
        "            qc.rz((1 - X[qubit]) * (1 - X[qubit + 1]), qubit + 1)\n",
        "            qc.cnot(qubit, qubit + 1)\n",
        "\n",
        "    return qc, c\n",
        "\n",
        "# Define the variational circuit\n",
        "def variational_circuit(qc, theta):\n",
        "    n_qubits = qc.num_qubits\n",
        "\n",
        "    for qubit in range(n_qubits):\n",
        "        qc.ry(theta[qubit], qubit)\n",
        "\n",
        "    for qubit in range(n_qubits - 1):\n",
        "        qc.cnot(qubit, qubit + 1)\n",
        "\n",
        "    for qubit in range(n_qubits):\n",
        "        qc.ry(theta[qubit + n_qubits], qubit)\n",
        "\n",
        "    return qc\n",
        "\n",
        "# Define the quantum neural network\n",
        "def qnn(X, theta, shots=int(1e3)):\n",
        "    qc, c = encode(X)\n",
        "    qc = variational_circuit(qc, theta)\n",
        "    qc.measure(0, c)\n",
        "\n",
        "    backend = qk.Aer.get_backend(\"qasm_simulator\")\n",
        "    job = qk.execute(qc, backend, shots=shots)\n",
        "    result = job.result()\n",
        "    counts = result.get_counts(qc)\n",
        "    return counts[\"1\"] / shots\n"
      ]
    },
    {
      "cell_type": "code",
      "execution_count": 13,
      "metadata": {
        "id": "i5732pi_ImF0"
      },
      "outputs": [],
      "source": [
        "def objective(theta, X, Y, shots=int(1e4)):\n",
        "    \"\"\"\n",
        "    Calculates the objective value for a given set of parameters, input data, and target values.\n",
        "\n",
        "    Parameters:\n",
        "        theta (numpy.ndarray): Array of parameters.\n",
        "        X (numpy.ndarray): Input data.\n",
        "        Y (numpy.ndarray): Target values.\n",
        "        shots (int): Number of shots for quantum measurement (default: int(1e4)).\n",
        "\n",
        "    Returns:\n",
        "        float: The objective value.\n",
        "\n",
        "    \"\"\"\n",
        "    n_data = X.shape[0]\n",
        "    to_return = 0\n",
        "\n",
        "    for idx in range(n_data):\n",
        "        prediction = qnn(X[idx], theta, shots=shots)\n",
        "        difference = np.abs(prediction - Y[idx])**2\n",
        "        to_return += difference\n",
        "\n",
        "    return to_return / n_data"
      ]
    },
    {
      "cell_type": "code",
      "execution_count": 14,
      "metadata": {
        "id": "FxiU7Lp_LY_H"
      },
      "outputs": [],
      "source": [
        "def spsa(func, x0, a=0.1, c=0.1, alpha=0.602, gamma=0.101, maxiter=100, verbose=False):\n",
        "    \"\"\"\n",
        "    Performs the Simultaneous Perturbation Stochastic Approximation (SPSA) optimization algorithm.\n",
        "\n",
        "    Parameters:\n",
        "        func (callable): Objective function to be minimized.\n",
        "        x0 (numpy.ndarray): Initial guess for the parameters.\n",
        "        a (float): Perturbation size parameter (default: 0.1).\n",
        "        c (float): Step size parameter (default: 0.1).\n",
        "        alpha (float): Exponent for step size decay (default: 0.602).\n",
        "        gamma (float): Exponent for perturbation size decay (default: 0.101).\n",
        "        maxiter (int): Maximum number of iterations (default: 100).\n",
        "        verbose (bool): Whether to print progress messages (default: False).\n",
        "\n",
        "    Returns:\n",
        "        numpy.ndarray: Optimized parameters.\n",
        "\n",
        "    \"\"\"\n",
        "    k = 0\n",
        "    x = x0\n",
        "\n",
        "    while k < maxiter:\n",
        "        ak = a / (k + 1) ** alpha  # Step size\n",
        "        ck = c / (k + 1) ** gamma  # Perturbation size\n",
        "        delta = 2 * np.random.randint(0, 2, len(x0)) - 1  # Random perturbation (+1 or -1) for each parameter\n",
        "        xp = x + ck * delta  # Perturbed parameter values (positive direction)\n",
        "        xm = x - ck * delta  # Perturbed parameter values (negative direction)\n",
        "        grad = (func(xp) - func(xm)) / (2 * ck) * delta  # Estimated gradient\n",
        "\n",
        "        x = x - ak * grad\n",
        "\n",
        "        if verbose and k % int(0.1 * maxiter) == 0:\n",
        "            fx = func(x)\n",
        "            print(f\"Iteration {k}: f = {fx}\")\n",
        "\n",
        "        k += 1\n",
        "\n",
        "    return x"
      ]
    },
    {
      "cell_type": "code",
      "execution_count": null,
      "metadata": {
        "colab": {
          "base_uri": "https://localhost:8080/"
        },
        "id": "qMtApSlGLglg",
        "outputId": "7445fd5a-3783-4ce8-e6fa-3e36fb9fbc5a"
      },
      "outputs": [
        {
          "output_type": "stream",
          "name": "stdout",
          "text": [
            "Iteration 0: f = 0.3650649876\n",
            "Iteration 100: f = 0.17239077079999998\n",
            "Iteration 200: f = 0.17456289479999998\n",
            "Iteration 300: f = 0.1738200676\n",
            "Iteration 400: f = 0.1735994364\n",
            "Iteration 500: f = 0.1729475916\n"
          ]
        }
      ],
      "source": [
        "a = 2.5\n",
        "c = 0.25\n",
        "maxiter = 1e3\n",
        "shots = int(1e4)\n",
        "\n",
        "alpha = 0.602\n",
        "gamma = 0.101\n",
        "\n",
        "f = lambda x: objective(x,X_train,Y_train,shots=shots) # Objective function\n",
        "x0 = np.pi*np.random.randn(4)\n",
        "\n",
        "xsol = spsa(f, x0, a=a, c=c,\n",
        "            alpha=alpha, gamma=gamma,\n",
        "            maxiter=maxiter, verbose=True)"
      ]
    },
    {
      "cell_type": "code",
      "execution_count": null,
      "metadata": {
        "id": "L64elWOmIqtm"
      },
      "outputs": [],
      "source": [
        "plt.figure(2, figsize=(8, 6))\n",
        "\n",
        "x = X_train\n",
        "y = Y_train\n",
        "\n",
        "x_min, x_max = x[:, 0].min() - 0.01, x[:, 0].max() + 0.01\n",
        "y_min, y_max = x[:, 1].min() - 0.01, x[:, 1].max() + 0.01\n",
        "\n",
        "x1, x2 = np.meshgrid(np.arange(x_min, x_max, 0.01),\n",
        "                        np.arange(y_min, y_max, 0.01))\n",
        "\n",
        "Z = []\n",
        "for idx1, idx2 in zip(x1.ravel(),x2.ravel()):\n",
        "  Z.append(round(qnn(np.array([idx1,idx2]),xsol)))\n",
        "\n",
        "# Create a custom colormap\n",
        "custom_colors = ['#F27200', '#004D80']\n",
        "custom_cmap = colors.ListedColormap(custom_colors)\n",
        "\n",
        "Z = np.array(Z).reshape(x1.shape)\n",
        "plt.pcolormesh(x1, x2, Z, alpha=0.4, cmap=custom_cmap)\n",
        "\n",
        "scatter = plt.scatter(x[:, 0], x[:, 1], c=y, cmap=custom_cmap, edgecolor=\"k\")\n",
        "\n",
        "plt.xlabel(\"Feature 1\")\n",
        "plt.ylabel(\"Feature 2\")\n",
        "\n",
        "plt.xlim(x_min, x_max - 0.001)\n",
        "plt.ylim(y_min, y_max - 0.006)\n",
        "\n",
        "plt.xticks(())\n",
        "plt.yticks(())\n",
        "\n",
        "# Add the legend\n",
        "classes = ['Class A', 'Class B']\n",
        "handles, labels = scatter.legend_elements()\n",
        "plt.legend(handles, classes, loc='upper right')"
      ]
    },
    {
      "cell_type": "code",
      "execution_count": null,
      "metadata": {
        "id": "nngDiL_Y6esF"
      },
      "outputs": [],
      "source": [
        "local_idx = 1\n",
        "\n",
        "# Generate a new set of training data by adding random perturbations to the local data point\n",
        "new_X_train = X_train[local_idx,:]+0.025*np.random.randn(100,2)\n",
        "new_Y_train = np.array([round(qnn(new_X_train[y],xsol)) for y in range(100)])"
      ]
    },
    {
      "cell_type": "code",
      "execution_count": null,
      "metadata": {
        "id": "fL-dVr-a6fpf"
      },
      "outputs": [],
      "source": [
        "plt.figure(2, figsize=(8, 6))\n",
        "\n",
        "x = X_train\n",
        "\n",
        "x_min, x_max = x[:, 0].min() - 0.01, x[:, 0].max() + 0.01\n",
        "y_min, y_max = x[:, 1].min() - 0.01, x[:, 1].max() + 0.01\n",
        "\n",
        "x1, x2 = np.meshgrid(np.arange(x_min, x_max, 0.01),\n",
        "                        np.arange(y_min, y_max, 0.01))\n",
        "\n",
        "Z = []\n",
        "for idx1, idx2 in zip(x1.ravel(),x2.ravel()):\n",
        "  Z.append(round(qnn(np.array([idx1,idx2]),xsol)))\n",
        "\n",
        "# Manually define the colors for the colormap\n",
        "custom_colors = ['#F27200', '#004D80']  # Specify the colors you want\n",
        "\n",
        "# Create a custom colormap\n",
        "custom_cmap = colors.ListedColormap(custom_colors)\n",
        "\n",
        "Z = np.array(Z).reshape(x1.shape)\n",
        "plt.pcolormesh(x1, x2, Z, alpha=0.4, cmap=custom_cmap)\n",
        "\n",
        "plt.plot(x[local_idx,0], x[local_idx,1], marker=\"o\", markersize=12, markeredgecolor=\"k\",\n",
        "markerfacecolor=\"yellow\")\n",
        "\n",
        "scatter = plt.scatter(new_X_train[:, 0], new_X_train[:, 1], c=new_Y_train, cmap=custom_cmap, edgecolor=\"k\")\n",
        "\n",
        "plt.xlabel(\"Feature 1\")\n",
        "plt.ylabel(\"Feature 2\")\n",
        "\n",
        "plt.xlim(x_min, x_max - 0.001)\n",
        "plt.ylim(y_min, y_max - 0.01)\n",
        "\n",
        "plt.xticks(())\n",
        "plt.yticks(())\n",
        "\n",
        "# Add the legend\n",
        "classes = ['Class A', 'Class B']\n",
        "handles, labels = scatter.legend_elements()\n",
        "plt.legend(handles, classes, loc='upper right')"
      ]
    },
    {
      "cell_type": "code",
      "execution_count": null,
      "metadata": {
        "id": "x4XG-dIJJ-cC"
      },
      "outputs": [],
      "source": [
        "lin = LogisticRegression(fit_intercept = True, C=1e5)\n",
        "lin.fit(new_X_train, new_Y_train)"
      ]
    },
    {
      "cell_type": "code",
      "execution_count": null,
      "metadata": {
        "id": "8uWqjOgTLiuD"
      },
      "outputs": [],
      "source": [
        "plt.figure(2, figsize=(8, 6))\n",
        "\n",
        "x = X_train\n",
        "\n",
        "x_min, x_max = x[:, 0].min() - 0.01, x[:, 0].max() + 0.01\n",
        "y_min, y_max = x[:, 1].min() - 0.01, x[:, 1].max() + 0.01\n",
        "\n",
        "x1, x2 = np.meshgrid(np.arange(x_min, x_max, 0.01),\n",
        "                        np.arange(y_min, y_max, 0.01))\n",
        "\n",
        "Z = []\n",
        "for idx1, idx2 in zip(x1.ravel(),x2.ravel()):\n",
        "  Z.append(round(qnn(np.array([idx1,idx2]),xsol)))\n",
        "\n",
        "# Create a custom colormap\n",
        "custom_colors = ['#F27200', '#004D80']\n",
        "custom_cmap = colors.ListedColormap(custom_colors)\n",
        "\n",
        "Z = np.array(Z).reshape(x1.shape)\n",
        "plt.pcolormesh(x1, x2, Z, alpha=0.4, cmap=custom_cmap)\n",
        "\n",
        "plt.plot(x[local_idx,0], x[local_idx,1], marker=\"o\", markersize=12, markeredgecolor=\"k\",\n",
        "markerfacecolor=\"yellow\")\n",
        "\n",
        "scatter = plt.scatter(new_X_train[:, 0], new_X_train[:, 1], c=new_Y_train, cmap=custom_cmap, edgecolor=\"k\")\n",
        "\n",
        "w = lin.coef_[0]\n",
        "m = -w[0] / w[1]\n",
        "b = (0.5 - lin.intercept_[0]) / w[1]\n",
        "\n",
        "plt.plot(np.array([x_min,x_max]), m*np.array([x_min,x_max])+b,'k')\n",
        "\n",
        "plt.xlabel(\"Feature 1\")\n",
        "plt.ylabel(\"Feature 2\")\n",
        "\n",
        "plt.xlim(x_min, x_max - 0.001)\n",
        "plt.ylim(y_min, y_max - 0.01)\n",
        "plt.xticks(())\n",
        "plt.yticks(())\n",
        "\n",
        "# Add the legend\n",
        "classes = ['Class A', 'Class B']\n",
        "handles, labels = scatter.legend_elements()\n",
        "plt.legend(handles, classes, loc='upper right')"
      ]
    },
    {
      "cell_type": "code",
      "execution_count": null,
      "metadata": {
        "id": "SAbOTiYgdznK"
      },
      "outputs": [],
      "source": [
        "local_idx = 2\n",
        "\n",
        "new_X_train = X_train[local_idx,:]+0.05*np.random.randn(100,2)\n",
        "new_Y_train = np.array([round(qnn(new_X_train[y],xsol)) for y in range(100)])\n",
        "\n",
        "lin = LogisticRegression(fit_intercept = True, C=1e5)\n",
        "lin.fit(new_X_train, new_Y_train)\n",
        "\n",
        "plt.figure(2, figsize=(8, 6))\n",
        "\n",
        "x = X_train\n",
        "\n",
        "x_min, x_max = x[:, 0].min() - 0.01, x[:, 0].max() + 0.01\n",
        "y_min, y_max = x[:, 1].min() - 0.01, x[:, 1].max() + 0.01\n",
        "\n",
        "x1, x2 = np.meshgrid(np.arange(x_min, x_max, 0.01),\n",
        "                        np.arange(y_min, y_max, 0.01))\n",
        "\n",
        "# Create a custom colormap\n",
        "custom_colors = ['#F27200', '#004D80']\n",
        "custom_cmap = colors.ListedColormap(custom_colors)\n",
        "\n",
        "Z = []\n",
        "for idx1, idx2 in zip(x1.ravel(),x2.ravel()):\n",
        "  Z.append(round(qnn(np.array([idx1,idx2]),xsol)))\n",
        "\n",
        "Z = np.array(Z).reshape(x1.shape)\n",
        "plt.pcolormesh(x1, x2, Z, alpha=0.4, cmap=custom_cmap)\n",
        "\n",
        "plt.plot(x[local_idx,0], x[local_idx,1], marker=\"o\", markersize=12, markeredgecolor=\"k\",\n",
        "markerfacecolor=\"yellow\")\n",
        "\n",
        "scatter = plt.scatter(new_X_train[:, 0], new_X_train[:, 1], c=new_Y_train, cmap=custom_cmap, edgecolor=\"k\")\n",
        "\n",
        "w = lin.coef_[0]\n",
        "m = -w[0] / w[1]\n",
        "b = (0.5 - lin.intercept_[0]) / w[1]\n",
        "\n",
        "plt.plot(np.array([x_min,x_max]), m*np.array([x_min,x_max])+b,'k')\n",
        "\n",
        "plt.xlabel(\"Feature 1\")\n",
        "plt.ylabel(\"Feature 2\")\n",
        "\n",
        "plt.xlim(x_min, x_max - 0.001)\n",
        "plt.ylim(y_min, y_max - 0.01)\n",
        "plt.xticks(())\n",
        "plt.yticks(());\n",
        "\n",
        "# Add the legend\n",
        "classes = ['Class A', 'Class B']\n",
        "handles, labels = scatter.legend_elements()\n",
        "plt.legend(handles, classes, loc='upper right')"
      ]
    },
    {
      "cell_type": "markdown",
      "metadata": {
        "id": "kZKIwtEiHfRB"
      },
      "source": [
        "# Region of Indecision"
      ]
    },
    {
      "cell_type": "code",
      "execution_count": null,
      "metadata": {
        "id": "EaTgvIsjAE2A"
      },
      "outputs": [],
      "source": [
        "def explain(local_idx, X_train, model, eps = 0.45, local_samples = 100, local_region = 0.025, n_samples = 25):\n",
        "  lines = np.zeros([n_samples, 100])\n",
        "\n",
        "  x = X_train\n",
        "\n",
        "  x_min, x_max = x[:, 0].min() - 0.0101, x[:, 0].max() + 0.0101\n",
        "  y_min, y_max = x[:, 1].min() - 0.0101, x[:, 1].max() + 0.0101\n",
        "\n",
        "  x1, x2 = np.meshgrid(np.arange(x_min, x_max, 0.01),\n",
        "                        np.arange(y_min, y_max, 0.01))\n",
        "\n",
        "  # Generate lines for plotting by sampling new data points around local points\n",
        "  for idn in range(n_samples):\n",
        "    new_X_train = X_train[local_idx,:]+local_region*np.random.randn(local_samples,2)\n",
        "    new_Y_train = np.array([round(model(new_X_train[y])) for y in range(local_samples)])\n",
        "\n",
        "    lin = LogisticRegression(fit_intercept = True, C=1e5)\n",
        "    lin.fit(new_X_train, new_Y_train)\n",
        "\n",
        "    w = lin.coef_[0]\n",
        "    m = -w[0] / w[1]\n",
        "    b = (0.5 - lin.intercept_[0]) / w[1]\n",
        "\n",
        "    lines[idn] = m*np.linspace(x_min,x_max,100)+b\n",
        "\n",
        "  Z = []\n",
        "  for idx1, idx2 in zip(x1.ravel(),x2.ravel()):\n",
        "    Z.append(round(qnn(np.array([idx1,idx2]),xsol)))\n",
        "\n",
        "  # Create a custom colormap\n",
        "  custom_colors = ['#F27200', '#004D80']\n",
        "  custom_cmap = colors.ListedColormap(custom_colors)\n",
        "\n",
        "  Z = np.array(Z).reshape(x1.shape)\n",
        "  plt.pcolormesh(x1, x2, Z, alpha=0.4, cmap=custom_cmap)\n",
        "\n",
        "  plt.plot(x[local_idx,0], x[local_idx,1], marker=\"o\", markersize=12, markeredgecolor=\"k\",\n",
        "  markerfacecolor=\"yellow\")\n",
        "\n",
        "  sorted_data = np.sort(lines,0)\n",
        "  up = sorted_data[int((0.5+eps)*100)*n_samples//100,:]\n",
        "  down = sorted_data[int((0.5-eps)*100)*n_samples//100,:]\n",
        "  plt.fill_between(np.linspace(x_min,x_max,100), down, up, color = 'b', alpha=0.25)\n",
        "\n",
        "  plt.xlabel(\"Feature 1\")\n",
        "  plt.ylabel(\"Feature 2\")\n",
        "\n",
        "  plt.xlim(x_min, x_max - 0.001)\n",
        "  plt.ylim(y_min, y_max)\n",
        "  plt.xticks(())\n",
        "  plt.yticks(());\n",
        "\n",
        "  # Add the legend\n",
        "  elements = ['Marker', 'Region of indecision']\n",
        "  plt.legend(elements, loc='lower right')"
      ]
    },
    {
      "cell_type": "code",
      "execution_count": null,
      "metadata": {
        "id": "zJ1dX6ZBE7bm"
      },
      "outputs": [],
      "source": [
        "# Explain the local behavior of the model\n",
        "explain(1,X_train,lambda x : qnn(x,xsol))"
      ]
    },
    {
      "cell_type": "code",
      "execution_count": null,
      "metadata": {
        "id": "4xtaC9ewFbx1"
      },
      "outputs": [],
      "source": [
        "# Explain the local behavior of the model at a local region of value\n",
        "explain(2,X_train, lambda x : qnn(x,xsol), local_region = 0.05)"
      ]
    }
  ],
  "metadata": {
    "colab": {
      "provenance": [],
      "toc_visible": true,
      "include_colab_link": true
    },
    "kernelspec": {
      "display_name": "Python 3",
      "name": "python3"
    },
    "language_info": {
      "name": "python"
    }
  },
  "nbformat": 4,
  "nbformat_minor": 0
}
